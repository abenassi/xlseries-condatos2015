{
 "cells": [
  {
   "cell_type": "code",
   "execution_count": 1,
   "metadata": {
    "collapsed": false
   },
   "outputs": [],
   "source": [
    "from xl_links_scraper import WebLinksScraper"
   ]
  },
  {
   "cell_type": "markdown",
   "metadata": {},
   "source": [
    "## Scrapear excels del INE (Chile)"
   ]
  },
  {
   "cell_type": "code",
   "execution_count": 2,
   "metadata": {
    "collapsed": true
   },
   "outputs": [],
   "source": [
    "links_ine = WebLinksScraper()"
   ]
  },
  {
   "cell_type": "code",
   "execution_count": 3,
   "metadata": {
    "collapsed": true
   },
   "outputs": [],
   "source": [
    "BASE_URL = \"http://www.ine.cl\"\n",
    "TARGETS = [\".xls\", \".xlsx\"]\n",
    "TO_VISIT_TARGETS = [\"http://www.ine.cl/canales/chile_estadistico\"]"
   ]
  },
  {
   "cell_type": "code",
   "execution_count": 4,
   "metadata": {
    "collapsed": false
   },
   "outputs": [
    {
     "name": "stdout",
     "output_type": "stream",
     "text": [
      "Finished in 1.73573748271 minutes\n"
     ]
    }
   ],
   "source": [
    "links_ine.scrape(BASE_URL, TARGETS, TO_VISIT_TARGETS)"
   ]
  },
  {
   "cell_type": "code",
   "execution_count": 17,
   "metadata": {
    "collapsed": false
   },
   "outputs": [
    {
     "name": "stdout",
     "output_type": "stream",
     "text": [
      "Se han scrapeado 2270 links con archivos excel!\n"
     ]
    }
   ],
   "source": [
    "print \"Se han scrapeado\", len(links_ine.target_links), \"links con archivos excel!\""
   ]
  },
  {
   "cell_type": "code",
   "execution_count": 18,
   "metadata": {
    "collapsed": false
   },
   "outputs": [],
   "source": [
    "links_ine.save_to_excel(\"3-excel_links/CHL_INE.xlsx\")"
   ]
  },
  {
   "cell_type": "code",
   "execution_count": 19,
   "metadata": {
    "collapsed": true
   },
   "outputs": [],
   "source": [
    "links_ine.save_state(\"ine\", \"3-excel_links\")"
   ]
  },
  {
   "cell_type": "markdown",
   "metadata": {},
   "source": [
    "## Scrapear excels del INDEC (Argentina)"
   ]
  },
  {
   "cell_type": "code",
   "execution_count": 3,
   "metadata": {
    "collapsed": false
   },
   "outputs": [],
   "source": [
    "links_indec = WebLinksScraper(\"3-excel_links/links_to_visit_indec.json\", \"3-excel_links/visited_links_indec.json\",\n",
    "                             \"3-excel_links/target_links_indec.json\")"
   ]
  },
  {
   "cell_type": "code",
   "execution_count": 4,
   "metadata": {
    "collapsed": true
   },
   "outputs": [],
   "source": [
    "BASE_URL = \"http://www.indec.gov.ar/\"\n",
    "TARGETS = [\".xls\", \".xlsx\"]\n",
    "TO_VISIT_TARGETS = [\"nivel1\", \"nivel2\", \"nivel3\", \"nivel4\"]"
   ]
  },
  {
   "cell_type": "code",
   "execution_count": 5,
   "metadata": {
    "collapsed": false
   },
   "outputs": [
    {
     "name": "stdout",
     "output_type": "stream",
     "text": [
      "Finished in 0.588873382409 minutes\n"
     ]
    }
   ],
   "source": [
    "links_indec.scrape(BASE_URL, TARGETS, TO_VISIT_TARGETS)"
   ]
  },
  {
   "cell_type": "code",
   "execution_count": 6,
   "metadata": {
    "collapsed": false
   },
   "outputs": [
    {
     "name": "stdout",
     "output_type": "stream",
     "text": [
      "Se han scrapeado 779 links con archivos excel!\n"
     ]
    }
   ],
   "source": [
    "print \"Se han scrapeado\", len(links_indec.target_links), \"links con archivos excel!\""
   ]
  },
  {
   "cell_type": "code",
   "execution_count": 8,
   "metadata": {
    "collapsed": false
   },
   "outputs": [],
   "source": [
    "links_indec.save_to_excel(\"3-excel_links/ARG_INDEC.xlsx\")"
   ]
  },
  {
   "cell_type": "code",
   "execution_count": 20,
   "metadata": {
    "collapsed": true
   },
   "outputs": [],
   "source": [
    "links_ine.save_state(\"indec\", \"3-excel_links\")"
   ]
  },
  {
   "cell_type": "code",
   "execution_count": null,
   "metadata": {
    "collapsed": true
   },
   "outputs": [],
   "source": []
  }
 ],
 "metadata": {
  "kernelspec": {
   "display_name": "Python 2",
   "language": "python",
   "name": "python2"
  },
  "language_info": {
   "codemirror_mode": {
    "name": "ipython",
    "version": 2
   },
   "file_extension": ".py",
   "mimetype": "text/x-python",
   "name": "python",
   "nbconvert_exporter": "python",
   "pygments_lexer": "ipython2",
   "version": "2.7.10"
  }
 },
 "nbformat": 4,
 "nbformat_minor": 0
}
