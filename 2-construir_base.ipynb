{
 "cells": [
  {
   "cell_type": "markdown",
   "metadata": {},
   "source": [
    "## Construir y explorar la base de datos"
   ]
  },
  {
   "cell_type": "code",
   "execution_count": 1,
   "metadata": {
    "collapsed": false
   },
   "outputs": [],
   "source": [
    "import dataset\n",
    "import build_database  # usamos el módulo donde escribimos los métodos para construir la base"
   ]
  },
  {
   "cell_type": "code",
   "execution_count": 2,
   "metadata": {
    "collapsed": true
   },
   "outputs": [],
   "source": [
    "# establecemos cuál va a ser el archivo que va a contener la base de datos\n",
    "DATABASE_URL = 'sqlite:///2-base_de_datos/latam_series.db'"
   ]
  },
  {
   "cell_type": "code",
   "execution_count": 3,
   "metadata": {
    "collapsed": false
   },
   "outputs": [
    {
     "name": "stdout",
     "output_type": "stream",
     "text": [
      "60 series were scraped from ipc_general_referencial_diciembre2013.xlsx\n",
      "201 series were scraped from serie12101.xls\n",
      "19 series were scraped from proyecciones-de-poblacion-2014.xlsx\n",
      "19 series were scraped from proyecciones-de-poblacion-2014.xlsx\n",
      "19 series were scraped from proyecciones-de-poblacion-2014.xlsx\n",
      "62 series were scraped from Balanza_de_Pagos.xls\n"
     ]
    }
   ],
   "source": [
    "# corremos build_database para construirla\n",
    "# use_cache = False toma los archivos excel que están descargados en las \"sources\"\n",
    "# use_cache = True redescarga los archivos de internet\n",
    "build_database.main(sources=[\"1-ejemplos\"], database_url=DATABASE_URL, use_cache=True)"
   ]
  },
  {
   "cell_type": "code",
   "execution_count": 4,
   "metadata": {
    "collapsed": true
   },
   "outputs": [],
   "source": [
    "# una vez construida nos conectamos a la base de datos\n",
    "db = dataset.connect(DATABASE_URL)"
   ]
  },
  {
   "cell_type": "code",
   "execution_count": 5,
   "metadata": {
    "collapsed": false
   },
   "outputs": [
    {
     "data": {
      "text/plain": [
       "[u'1-ejemplos']"
      ]
     },
     "execution_count": 5,
     "metadata": {},
     "output_type": "execute_result"
    }
   ],
   "source": [
    "# y empezamos a ver qué tiene...\n",
    "db.tables"
   ]
  },
  {
   "cell_type": "code",
   "execution_count": 6,
   "metadata": {
    "collapsed": true
   },
   "outputs": [],
   "source": [
    "table = db[\"1-ejemplos\"]"
   ]
  },
  {
   "cell_type": "code",
   "execution_count": 7,
   "metadata": {
    "collapsed": false
   },
   "outputs": [
    {
     "name": "stdout",
     "output_type": "stream",
     "text": [
      "Hay 6692 datos en la base.\n"
     ]
    }
   ],
   "source": [
    "print \"Hay\", len(table), \"datos en la base.\""
   ]
  },
  {
   "cell_type": "code",
   "execution_count": 8,
   "metadata": {
    "collapsed": false
   },
   "outputs": [
    {
     "name": "stdout",
     "output_type": "stream",
     "text": [
      "Hay 200 series de datos en la base.\n"
     ]
    }
   ],
   "source": [
    "# los campos \"name\" y \"frequency\" identifican unívocamente a una serie\n",
    "print \"Hay\", len(list(table.distinct(\"name\", \"frequency\"))), \"series de datos en la base.\""
   ]
  },
  {
   "cell_type": "code",
   "execution_count": 9,
   "metadata": {
    "collapsed": false
   },
   "outputs": [],
   "source": [
    "# exportar la tabla a un csv\n",
    "dataset.freeze(table, \"csv\", \"2-base_de_datos/tbl_ejemplos.csv\")"
   ]
  },
  {
   "cell_type": "code",
   "execution_count": null,
   "metadata": {
    "collapsed": true
   },
   "outputs": [],
   "source": []
  }
 ],
 "metadata": {
  "kernelspec": {
   "display_name": "Python 2",
   "language": "python",
   "name": "python2"
  },
  "language_info": {
   "codemirror_mode": {
    "name": "ipython",
    "version": 2
   },
   "file_extension": ".py",
   "mimetype": "text/x-python",
   "name": "python",
   "nbconvert_exporter": "python",
   "pygments_lexer": "ipython2",
   "version": "2.7.10"
  }
 },
 "nbformat": 4,
 "nbformat_minor": 0
}
