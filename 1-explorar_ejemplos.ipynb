{
 "cells": [
  {
   "cell_type": "markdown",
   "metadata": {},
   "source": [
    "# Ejemplos"
   ]
  },
  {
   "cell_type": "markdown",
   "metadata": {},
   "source": [
    "Archivos excel con series de tiempo de ejemplo scrapeados con XlSeries para el taller realizado en CONDATOS 2015 en Santiago de Chile."
   ]
  },
  {
   "cell_type": "code",
   "execution_count": 1,
   "metadata": {
    "collapsed": false
   },
   "outputs": [],
   "source": [
    "from xlseries import XlSeries\n",
    "import os"
   ]
  },
  {
   "cell_type": "code",
   "execution_count": 2,
   "metadata": {
    "collapsed": true
   },
   "outputs": [],
   "source": [
    "DIR_EJEMPLOS = \"1-ejemplos\""
   ]
  },
  {
   "cell_type": "markdown",
   "metadata": {},
   "source": [
    "#### 1 (Chile - INE): ÍNDICE DE PRECIOS AL CONSUMIDOR (IPC) - COBERTURA NACIONAL - BASE AÑO 2009 - HOJA DE CIFRA GENERALES"
   ]
  },
  {
   "cell_type": "code",
   "execution_count": 3,
   "metadata": {
    "collapsed": false
   },
   "outputs": [],
   "source": [
    "xl1 = XlSeries(os.path.join(DIR_EJEMPLOS, \"ipc_general_referencial_diciembre2013.xlsx\"))"
   ]
  },
  {
   "cell_type": "code",
   "execution_count": 4,
   "metadata": {
    "collapsed": false
   },
   "outputs": [],
   "source": [
    "params1 = {\n",
    "    \"headers_coord\": \"D5-G5\",\n",
    "    \"frequency\": \"M\",\n",
    "    \"time_header_coord\": [\"B5\", \"C5\"],\n",
    "    \"data_starts\": 6\n",
    "}"
   ]
  },
  {
   "cell_type": "code",
   "execution_count": 5,
   "metadata": {
    "collapsed": false
   },
   "outputs": [],
   "source": [
    "df1 = xl1.get_data_frames(params1)"
   ]
  },
  {
   "cell_type": "code",
   "execution_count": 6,
   "metadata": {
    "collapsed": false
   },
   "outputs": [
    {
     "data": {
      "text/html": [
       "<div style=\"max-height:1000px;max-width:1500px;overflow:auto;\">\n",
       "<table border=\"1\" class=\"dataframe\">\n",
       "  <thead>\n",
       "    <tr style=\"text-align: right;\">\n",
       "      <th></th>\n",
       "      <th>Indice</th>\n",
       "      <th>Variacion Mensual</th>\n",
       "      <th>Variacion Acumulada</th>\n",
       "      <th>Variacion a 12 Meses</th>\n",
       "    </tr>\n",
       "  </thead>\n",
       "  <tbody>\n",
       "    <tr>\n",
       "      <th>2013-08</th>\n",
       "      <td>110.06</td>\n",
       "      <td>0.2</td>\n",
       "      <td>1.3</td>\n",
       "      <td>2.2</td>\n",
       "    </tr>\n",
       "    <tr>\n",
       "      <th>2013-09</th>\n",
       "      <td>110.65</td>\n",
       "      <td>0.5</td>\n",
       "      <td>1.9</td>\n",
       "      <td>2.0</td>\n",
       "    </tr>\n",
       "    <tr>\n",
       "      <th>2013-10</th>\n",
       "      <td>110.80</td>\n",
       "      <td>0.1</td>\n",
       "      <td>2.0</td>\n",
       "      <td>1.5</td>\n",
       "    </tr>\n",
       "    <tr>\n",
       "      <th>2013-11</th>\n",
       "      <td>111.22</td>\n",
       "      <td>0.4</td>\n",
       "      <td>2.4</td>\n",
       "      <td>2.4</td>\n",
       "    </tr>\n",
       "    <tr>\n",
       "      <th>2013-12</th>\n",
       "      <td>111.88</td>\n",
       "      <td>0.6</td>\n",
       "      <td>3.0</td>\n",
       "      <td>3.0</td>\n",
       "    </tr>\n",
       "  </tbody>\n",
       "</table>\n",
       "</div>"
      ],
      "text/plain": [
       "         Indice  Variacion Mensual  Variacion Acumulada  Variacion a 12 Meses\n",
       "2013-08  110.06                0.2                  1.3                   2.2\n",
       "2013-09  110.65                0.5                  1.9                   2.0\n",
       "2013-10  110.80                0.1                  2.0                   1.5\n",
       "2013-11  111.22                0.4                  2.4                   2.4\n",
       "2013-12  111.88                0.6                  3.0                   3.0"
      ]
     },
     "execution_count": 6,
     "metadata": {},
     "output_type": "execute_result"
    }
   ],
   "source": [
    "df1.tail()"
   ]
  },
  {
   "cell_type": "markdown",
   "metadata": {},
   "source": [
    "#### 2 (Chile - INE): INDICE GENERAL DE REMUNERACIONES Y DE COSTO DE LA MANO DE OBRA POR HORA - (Base Enero 2006=100)"
   ]
  },
  {
   "cell_type": "code",
   "execution_count": 7,
   "metadata": {
    "collapsed": false
   },
   "outputs": [],
   "source": [
    "xl2 = XlSeries(os.path.join(DIR_EJEMPLOS, \"serie12101.xls\"))"
   ]
  },
  {
   "cell_type": "code",
   "execution_count": 8,
   "metadata": {
    "collapsed": true
   },
   "outputs": [],
   "source": [
    "params2 = {\n",
    "    \"headers_coord\": \"C5-J6\",\n",
    "    \"frequency\": \"M\",\n",
    "    \"time_header_coord\": \"A5-B5\",\n",
    "    \"data_starts\": 8,\n",
    "    \"context\": {\n",
    "        \"Indice Nominal de Remuneraciones\": \"C4-F4\",\n",
    "        \"Indice Nominal de Costo Mano de Obra\": \"G4-J4\",\n",
    "        \"Variacion\": [\"D5-F5\", \"H5-J5\"]\n",
    "    }\n",
    "}"
   ]
  },
  {
   "cell_type": "code",
   "execution_count": 9,
   "metadata": {
    "collapsed": false
   },
   "outputs": [],
   "source": [
    "df2 = xl2.get_data_frames(params2)"
   ]
  },
  {
   "cell_type": "code",
   "execution_count": 10,
   "metadata": {
    "collapsed": false
   },
   "outputs": [
    {
     "data": {
      "text/html": [
       "<div style=\"max-height:1000px;max-width:1500px;overflow:auto;\">\n",
       "<table border=\"1\" class=\"dataframe\">\n",
       "  <thead>\n",
       "    <tr style=\"text-align: right;\">\n",
       "      <th></th>\n",
       "      <th>Indice Nominal de Remuneraciones - Indice</th>\n",
       "      <th>Indice Nominal de Remuneraciones - Variacion - Variacion</th>\n",
       "      <th>Indice Nominal de Costo Mano de Obra - Indice</th>\n",
       "      <th>Indice Nominal de Costo Mano de Obra - Variacion - Variacion</th>\n",
       "      <th>Indice Nominal de Remuneraciones - Variacion - Mes Anterior</th>\n",
       "      <th>Indice Nominal de Remuneraciones - Variacion - Respecto Diciembre</th>\n",
       "      <th>Indice Nominal de Remuneraciones - Variacion - En 12 Meses</th>\n",
       "      <th>Indice Nominal de Costo Mano de Obra - Variacion - Mes Anterior</th>\n",
       "      <th>Indice Nominal de Costo Mano de Obra - Variacion - Respecto Diciembre</th>\n",
       "      <th>Indice Nominal de Costo Mano de Obra - Variacion - En 12 Meses</th>\n",
       "    </tr>\n",
       "  </thead>\n",
       "  <tbody>\n",
       "    <tr>\n",
       "      <th>2009-08</th>\n",
       "      <td>127.17</td>\n",
       "      <td>0.4</td>\n",
       "      <td>123.99</td>\n",
       "      <td>0.4</td>\n",
       "      <td>0.4</td>\n",
       "      <td>2.8</td>\n",
       "      <td>5.9</td>\n",
       "      <td>0.4</td>\n",
       "      <td>3.0</td>\n",
       "      <td>6.7</td>\n",
       "    </tr>\n",
       "    <tr>\n",
       "      <th>2009-09</th>\n",
       "      <td>127.85</td>\n",
       "      <td>0.5</td>\n",
       "      <td>124.70</td>\n",
       "      <td>0.6</td>\n",
       "      <td>0.5</td>\n",
       "      <td>3.3</td>\n",
       "      <td>5.7</td>\n",
       "      <td>0.6</td>\n",
       "      <td>3.6</td>\n",
       "      <td>6.5</td>\n",
       "    </tr>\n",
       "    <tr>\n",
       "      <th>2009-10</th>\n",
       "      <td>128.12</td>\n",
       "      <td>0.2</td>\n",
       "      <td>124.98</td>\n",
       "      <td>0.2</td>\n",
       "      <td>0.2</td>\n",
       "      <td>3.5</td>\n",
       "      <td>5.5</td>\n",
       "      <td>0.2</td>\n",
       "      <td>3.8</td>\n",
       "      <td>6.2</td>\n",
       "    </tr>\n",
       "    <tr>\n",
       "      <th>2009-11</th>\n",
       "      <td>128.51</td>\n",
       "      <td>0.3</td>\n",
       "      <td>125.32</td>\n",
       "      <td>0.3</td>\n",
       "      <td>0.3</td>\n",
       "      <td>3.9</td>\n",
       "      <td>5.4</td>\n",
       "      <td>0.3</td>\n",
       "      <td>4.1</td>\n",
       "      <td>6.0</td>\n",
       "    </tr>\n",
       "    <tr>\n",
       "      <th>2009-12</th>\n",
       "      <td>129.88</td>\n",
       "      <td>1.1</td>\n",
       "      <td>126.80</td>\n",
       "      <td>1.2</td>\n",
       "      <td>1.1</td>\n",
       "      <td>5.0</td>\n",
       "      <td>5.0</td>\n",
       "      <td>1.2</td>\n",
       "      <td>5.3</td>\n",
       "      <td>5.3</td>\n",
       "    </tr>\n",
       "  </tbody>\n",
       "</table>\n",
       "</div>"
      ],
      "text/plain": [
       "         Indice Nominal de Remuneraciones - Indice  \\\n",
       "2009-08                                     127.17   \n",
       "2009-09                                     127.85   \n",
       "2009-10                                     128.12   \n",
       "2009-11                                     128.51   \n",
       "2009-12                                     129.88   \n",
       "\n",
       "         Indice Nominal de Remuneraciones - Variacion - Variacion  \\\n",
       "2009-08                                                0.4          \n",
       "2009-09                                                0.5          \n",
       "2009-10                                                0.2          \n",
       "2009-11                                                0.3          \n",
       "2009-12                                                1.1          \n",
       "\n",
       "         Indice Nominal de Costo Mano de Obra - Indice  \\\n",
       "2009-08                                         123.99   \n",
       "2009-09                                         124.70   \n",
       "2009-10                                         124.98   \n",
       "2009-11                                         125.32   \n",
       "2009-12                                         126.80   \n",
       "\n",
       "         Indice Nominal de Costo Mano de Obra - Variacion - Variacion  \\\n",
       "2009-08                                                0.4              \n",
       "2009-09                                                0.6              \n",
       "2009-10                                                0.2              \n",
       "2009-11                                                0.3              \n",
       "2009-12                                                1.2              \n",
       "\n",
       "         Indice Nominal de Remuneraciones - Variacion - Mes Anterior  \\\n",
       "2009-08                                                0.4             \n",
       "2009-09                                                0.5             \n",
       "2009-10                                                0.2             \n",
       "2009-11                                                0.3             \n",
       "2009-12                                                1.1             \n",
       "\n",
       "         Indice Nominal de Remuneraciones - Variacion - Respecto Diciembre  \\\n",
       "2009-08                                                2.8                   \n",
       "2009-09                                                3.3                   \n",
       "2009-10                                                3.5                   \n",
       "2009-11                                                3.9                   \n",
       "2009-12                                                5.0                   \n",
       "\n",
       "         Indice Nominal de Remuneraciones - Variacion - En 12 Meses  \\\n",
       "2009-08                                                5.9            \n",
       "2009-09                                                5.7            \n",
       "2009-10                                                5.5            \n",
       "2009-11                                                5.4            \n",
       "2009-12                                                5.0            \n",
       "\n",
       "         Indice Nominal de Costo Mano de Obra - Variacion - Mes Anterior  \\\n",
       "2009-08                                                0.4                 \n",
       "2009-09                                                0.6                 \n",
       "2009-10                                                0.2                 \n",
       "2009-11                                                0.3                 \n",
       "2009-12                                                1.2                 \n",
       "\n",
       "         Indice Nominal de Costo Mano de Obra - Variacion - Respecto Diciembre  \\\n",
       "2009-08                                                3.0                       \n",
       "2009-09                                                3.6                       \n",
       "2009-10                                                3.8                       \n",
       "2009-11                                                4.1                       \n",
       "2009-12                                                5.3                       \n",
       "\n",
       "         Indice Nominal de Costo Mano de Obra - Variacion - En 12 Meses  \n",
       "2009-08                                                6.7               \n",
       "2009-09                                                6.5               \n",
       "2009-10                                                6.2               \n",
       "2009-11                                                6.0               \n",
       "2009-12                                                5.3               "
      ]
     },
     "execution_count": 10,
     "metadata": {},
     "output_type": "execute_result"
    }
   ],
   "source": [
    "df2.tail()"
   ]
  },
  {
   "cell_type": "markdown",
   "metadata": {},
   "source": [
    "#### 3 (Chile - INE): POBLACIÓN, PAÍS Y REGIONES: ACTUALIZACIÓN POBLACIÓN 2002-2012 Y PROYECCIONES 2013-2020"
   ]
  },
  {
   "cell_type": "code",
   "execution_count": 11,
   "metadata": {
    "collapsed": true
   },
   "outputs": [],
   "source": [
    "xl3 = XlSeries(os.path.join(DIR_EJEMPLOS, \"proyecciones-de-poblacion-2014.xlsx\"))"
   ]
  },
  {
   "cell_type": "code",
   "execution_count": 12,
   "metadata": {
    "collapsed": true
   },
   "outputs": [],
   "source": [
    "params3_ambos_sexos = {\n",
    "    \"headers_coord\": \"A6-A87\",\n",
    "    \"frequency\": \"Y\",\n",
    "    \"time_header_coord\": \"A5\",\n",
    "    \"data_starts\": 2\n",
    "}\n",
    "\n",
    "params3_hombres = params3_ambos_sexos.copy()\n",
    "params3_hombres[\"headers_coord\"] = \"A92-A173\"\n",
    "params3_hombres[\"time_header_coord\"] = \"A91\"\n",
    "\n",
    "params3_mujeres = params3_ambos_sexos.copy()\n",
    "params3_mujeres[\"headers_coord\"] = \"A178-A259\"\n",
    "params3_mujeres[\"time_header_coord\"] = \"A177\""
   ]
  },
  {
   "cell_type": "code",
   "execution_count": null,
   "metadata": {
    "collapsed": false
   },
   "outputs": [],
   "source": [
    "ws_name = \"País\""
   ]
  },
  {
   "cell_type": "code",
   "execution_count": null,
   "metadata": {
    "collapsed": false
   },
   "outputs": [],
   "source": [
    "df3_ambos_sexos = xl3.get_data_frames(params3_ambos_sexos, ws_name)\n",
    "df3_hombres = xl3.get_data_frames(params3_hombres, ws_name)\n",
    "df3_mujeres = xl3.get_data_frames(params3_mujeres, ws_name)"
   ]
  },
  {
   "cell_type": "code",
   "execution_count": null,
   "metadata": {
    "collapsed": false
   },
   "outputs": [],
   "source": [
    "df3_ambos_sexos.tail()"
   ]
  },
  {
   "cell_type": "code",
   "execution_count": null,
   "metadata": {
    "collapsed": false
   },
   "outputs": [],
   "source": [
    "df3_hombres.tail()"
   ]
  },
  {
   "cell_type": "code",
   "execution_count": null,
   "metadata": {
    "collapsed": false
   },
   "outputs": [],
   "source": [
    "df3_mujeres.tail()"
   ]
  },
  {
   "cell_type": "code",
   "execution_count": null,
   "metadata": {
    "collapsed": false
   },
   "outputs": [],
   "source": [
    "%matplotlib inline\n",
    "import matplotlib\n",
    "matplotlib.style.use('ggplot')"
   ]
  },
  {
   "cell_type": "code",
   "execution_count": null,
   "metadata": {
    "collapsed": true
   },
   "outputs": [],
   "source": [
    "import pandas as pd"
   ]
  },
  {
   "cell_type": "code",
   "execution_count": null,
   "metadata": {
    "collapsed": false
   },
   "outputs": [],
   "source": [
    "data = {\"Ambos\": df3_ambos_sexos[\"Total\"], \n",
    "        \"Hombres\": df3_hombres[\"Total\"], \n",
    "        \"Mujeres\": df3_mujeres[\"Total\"]}\n",
    "df3 = pd.DataFrame(data=data)"
   ]
  },
  {
   "cell_type": "code",
   "execution_count": null,
   "metadata": {
    "collapsed": false
   },
   "outputs": [],
   "source": [
    "df3[[\"Hombres\", \"Mujeres\"]].plot()"
   ]
  },
  {
   "cell_type": "code",
   "execution_count": null,
   "metadata": {
    "collapsed": false
   },
   "outputs": [],
   "source": [
    "df3.iloc[-6:]"
   ]
  },
  {
   "cell_type": "markdown",
   "metadata": {},
   "source": [
    "#### 4 (Chile - BCC): Balanza de Pagos de Chile"
   ]
  },
  {
   "cell_type": "code",
   "execution_count": null,
   "metadata": {
    "collapsed": true
   },
   "outputs": [],
   "source": [
    "xl4 = XlSeries(os.path.join(DIR_EJEMPLOS, \"Balanza_de_Pagos.xls\"))"
   ]
  },
  {
   "cell_type": "code",
   "execution_count": null,
   "metadata": {
    "collapsed": true
   },
   "outputs": [],
   "source": [
    "params4 = {\n",
    "    \"headers_coord\": [\"A9_B9\", \"A11-H65\", \"A67_B67\", \"B69-B73\"],\n",
    "    \"frequency\": \"QQQQY\",\n",
    "    \"time_header_coord\": [\"H5\", \"H7\"],\n",
    "    \"data_starts\": 9,\n",
    "    \"context\": {\n",
    "        \"I. Cuenta corriente\": \"A10-A31\",\n",
    "        \"A. Bienes y servicios\": \"C12-C17\",\n",
    "        \"Bienes\": \"E13-E14\",\n",
    "        \"Servicios\": \"E16-E17\",\n",
    "        \"B. Renta (Ingreso primario)\": \"C19-C28\",\n",
    "        \"Renta de la inversión\": \"E20-E28\",\n",
    "        \"C.  Transferencias corrientes (Ingreso secundario)\": \"C30-C31\",\n",
    "        \"IV. Cuenta financiera (2)\": \"A39-A65\",\n",
    "        \"A.  Inversión directa\": \"E41-E48\",\n",
    "        \"Activos\": [\"G42-G44\", \"G55-G58\"],\n",
    "        \"Pasivos\": [\"G46-G48\", \"G60-G64\"],\n",
    "        \"B. Inversión de cartera\": \"E50-E51\",\n",
    "        \"D. Otra inversión\": \"E54-E64\"\n",
    "    },\n",
    "}"
   ]
  },
  {
   "cell_type": "code",
   "execution_count": null,
   "metadata": {
    "collapsed": false
   },
   "outputs": [],
   "source": [
    "df4 = xl4.get_data_frames(params4)"
   ]
  },
  {
   "cell_type": "code",
   "execution_count": null,
   "metadata": {
    "collapsed": false
   },
   "outputs": [],
   "source": [
    "print \"Now there is\", len(df4), \"dataframes.\""
   ]
  },
  {
   "cell_type": "code",
   "execution_count": null,
   "metadata": {
    "collapsed": false
   },
   "outputs": [],
   "source": [
    "print \"A quarterly one...\"\n",
    "df4[0].tail()"
   ]
  },
  {
   "cell_type": "code",
   "execution_count": null,
   "metadata": {
    "collapsed": false
   },
   "outputs": [],
   "source": [
    "print \"...and a yearly one\"\n",
    "df4[1].tail()"
   ]
  },
  {
   "cell_type": "code",
   "execution_count": null,
   "metadata": {
    "collapsed": true
   },
   "outputs": [],
   "source": [
    "bp_trimestral = df4[0]"
   ]
  },
  {
   "cell_type": "code",
   "execution_count": null,
   "metadata": {
    "collapsed": false
   },
   "outputs": [],
   "source": [
    "bp_trimestral[[\"I. Cuenta corriente\", \n",
    "               \"I. Cuenta corriente - A. Bienes y servicios\", \n",
    "               \"I. Cuenta corriente - B. Renta ( Ingreso primario)\", \n",
    "               \"I. Cuenta corriente - C.  Transferencias corrientes (Ingreso secundario)\"]].plot(figsize=(15, 7))"
   ]
  },
  {
   "cell_type": "markdown",
   "metadata": {},
   "source": [
    "#### 5 (Argentina - BCRA): Tipo de cambio Argentina (test case 2)"
   ]
  },
  {
   "cell_type": "markdown",
   "metadata": {},
   "source": [
    "El excel del cual fue tomado este caso de testeo ya no se publica como tal, en su lugar hay una aplicación web que muestra el resultado en html."
   ]
  },
  {
   "cell_type": "code",
   "execution_count": null,
   "metadata": {
    "collapsed": true
   },
   "outputs": [],
   "source": [
    "from xlseries.utils.path_finders import get_orig_cases_path"
   ]
  },
  {
   "cell_type": "code",
   "execution_count": null,
   "metadata": {
    "collapsed": false
   },
   "outputs": [],
   "source": [
    "xl5 = XlSeries(get_orig_cases_path(2))"
   ]
  },
  {
   "cell_type": "code",
   "execution_count": null,
   "metadata": {
    "collapsed": false
   },
   "outputs": [],
   "source": [
    "params5 = {'blank_rows': [False, True],\n",
    "           'continuity': [True, False],\n",
    "           'data_starts': [5, 22],\n",
    "           'frequency': [u'D', u'M'],\n",
    "           'headers_coord': [u'D4', u'F4'],\n",
    "           'missing_value': [u'Implicit', None],\n",
    "           'missings': [True, False],\n",
    "           'time_alignment': [0, -1],\n",
    "           'time_header_coord': [u'C4', u'F4'],\n",
    "           }"
   ]
  },
  {
   "cell_type": "code",
   "execution_count": null,
   "metadata": {
    "collapsed": false
   },
   "outputs": [],
   "source": [
    "df5 = xl5.get_data_frames(params5)"
   ]
  },
  {
   "cell_type": "code",
   "execution_count": null,
   "metadata": {
    "collapsed": false
   },
   "outputs": [],
   "source": [
    "df5[0].tail()"
   ]
  },
  {
   "cell_type": "code",
   "execution_count": null,
   "metadata": {
    "collapsed": false
   },
   "outputs": [],
   "source": [
    "df5[1].tail()"
   ]
  },
  {
   "cell_type": "code",
   "execution_count": null,
   "metadata": {
    "collapsed": true
   },
   "outputs": [],
   "source": []
  }
 ],
 "metadata": {
  "kernelspec": {
   "display_name": "Python 2",
   "language": "python",
   "name": "python2"
  },
  "language_info": {
   "codemirror_mode": {
    "name": "ipython",
    "version": 2
   },
   "file_extension": ".py",
   "mimetype": "text/x-python",
   "name": "python",
   "nbconvert_exporter": "python",
   "pygments_lexer": "ipython2",
   "version": "2.7.10"
  }
 },
 "nbformat": 4,
 "nbformat_minor": 0
}
